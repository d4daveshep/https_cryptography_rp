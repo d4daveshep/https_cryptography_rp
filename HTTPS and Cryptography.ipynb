{
 "cells": [
  {
   "cell_type": "markdown",
   "id": "7bed207f",
   "metadata": {},
   "source": [
    "# What is HTTPS #\n",
    "https://realpython.com/lessons/exploring-https-overview/"
   ]
  },
  {
   "cell_type": "code",
   "execution_count": 3,
   "id": "b41300ef",
   "metadata": {},
   "outputs": [],
   "source": [
    "import subprocess"
   ]
  },
  {
   "cell_type": "code",
   "execution_count": 5,
   "id": "7239d60b",
   "metadata": {},
   "outputs": [
    {
     "name": "stdout",
     "output_type": "stream",
     "text": [
      "curl 7.74.0 (x86_64-pc-linux-gnu) libcurl/7.74.0 OpenSSL/1.1.1n zlib/1.2.11 brotli/1.0.9 libidn2/2.3.0 libpsl/0.21.0 (+libidn2/2.3.0) libssh2/1.9.0 nghttp2/1.43.0 librtmp/2.3\n",
      "Release-Date: 2020-12-09\n",
      "Protocols: dict file ftp ftps gopher http https imap imaps ldap ldaps mqtt pop3 pop3s rtmp rtsp scp sftp smb smbs smtp smtps telnet tftp \n",
      "Features: alt-svc AsynchDNS brotli GSS-API HTTP2 HTTPS-proxy IDN IPv6 Kerberos Largefile libz NTLM NTLM_WB PSL SPNEGO SSL TLS-SRP UnixSockets\n"
     ]
    },
    {
     "data": {
      "text/plain": [
       "CompletedProcess(args='curl --version', returncode=0)"
      ]
     },
     "execution_count": 5,
     "metadata": {},
     "output_type": "execute_result"
    }
   ],
   "source": [
    "subprocess.run(\"curl --version\", shell=True)"
   ]
  },
  {
   "cell_type": "code",
   "execution_count": 10,
   "id": "2f94ceda",
   "metadata": {},
   "outputs": [
    {
     "name": "stdout",
     "output_type": "stream",
     "text": [
      "<!doctype html>\n",
      "<html lang=\"en\">\n",
      "<head>\n",
      "  <title>Hello World!</title>\n",
      "</head>\n",
      "<body>\n",
      "  <h1>Hello World!</h1>\n",
      "</body>\n",
      "</html>\n"
     ]
    },
    {
     "data": {
      "text/plain": [
       "CompletedProcess(args='curl -s https://trudeau.dev/helloworld.html', returncode=0)"
      ]
     },
     "execution_count": 10,
     "metadata": {},
     "output_type": "execute_result"
    }
   ],
   "source": [
    "subprocess.run(\"curl -s https://trudeau.dev/helloworld.html\", shell=True)"
   ]
  },
  {
   "cell_type": "code",
   "execution_count": null,
   "id": "1d40db6f",
   "metadata": {},
   "outputs": [],
   "source": []
  },
  {
   "cell_type": "code",
   "execution_count": 11,
   "id": "5bb0337e",
   "metadata": {},
   "outputs": [
    {
     "name": "stdout",
     "output_type": "stream",
     "text": [
      "HTTP/2 200 \r\n",
      "date: Thu, 25 Aug 2022 22:00:25 GMT\r\n",
      "content-type: text/html\r\n",
      "last-modified: Tue, 30 Mar 2021 14:51:18 GMT\r\n",
      "accept-ranges: bytes\r\n",
      "cf-cache-status: DYNAMIC\r\n",
      "expect-ct: max-age=604800, report-uri=\"https://report-uri.cloudflare.com/cdn-cgi/beacon/expect-ct\"\r\n",
      "report-to: {\"endpoints\":[{\"url\":\"https:\\/\\/a.nel.cloudflare.com\\/report\\/v3?s=go9lR3sIld593zR3kAsiG04AJTyVaKvLJupaw%2FSdovATNu5u3%2Bn42iGhkceqMemkBOmZSQxOGMedtJKMps0IUz84wO7IUhF2KMoEhwPzodAc%2BfV1Y%2FoQX9jPTSW5IQ%3D%3D\"}],\"group\":\"cf-nel\",\"max_age\":604800}\r\n",
      "nel: {\"success_fraction\":0,\"report_to\":\"cf-nel\",\"max_age\":604800}\r\n",
      "server: cloudflare\r\n",
      "cf-ray: 740799b4a9264cd1-SIN\r\n",
      "alt-svc: h3=\":443\"; ma=86400, h3-29=\":443\"; ma=86400\r\n",
      "\r\n"
     ]
    },
    {
     "data": {
      "text/plain": [
       "CompletedProcess(args='curl -s -I https://trudeau.dev/helloworld.html', returncode=0)"
      ]
     },
     "execution_count": 11,
     "metadata": {},
     "output_type": "execute_result"
    }
   ],
   "source": [
    "subprocess.run(\"curl -s -I https://trudeau.dev/helloworld.html\", shell=True)"
   ]
  },
  {
   "cell_type": "code",
   "execution_count": 12,
   "id": "e280d028",
   "metadata": {},
   "outputs": [
    {
     "name": "stderr",
     "output_type": "stream",
     "text": [
      "*   Trying 104.21.20.98:443...\n",
      "* Connected to trudeau.dev (104.21.20.98) port 443 (#0)\n",
      "* ALPN, offering h2\n",
      "* ALPN, offering http/1.1\n",
      "* successfully set certificate verify locations:\n",
      "*  CAfile: /etc/ssl/certs/ca-certificates.crt\n",
      "*  CApath: /etc/ssl/certs\n",
      "} [5 bytes data]\n",
      "* TLSv1.3 (OUT), TLS handshake, Client hello (1):\n",
      "} [512 bytes data]\n",
      "* TLSv1.3 (IN), TLS handshake, Server hello (2):\n",
      "{ [122 bytes data]\n",
      "* TLSv1.3 (IN), TLS handshake, Encrypted Extensions (8):\n",
      "{ [19 bytes data]\n",
      "* TLSv1.3 (IN), TLS handshake, Certificate (11):\n",
      "{ [2335 bytes data]\n",
      "* TLSv1.3 (IN), TLS handshake, CERT verify (15):\n",
      "{ [80 bytes data]\n",
      "* TLSv1.3 (IN), TLS handshake, Finished (20):\n",
      "{ [52 bytes data]\n",
      "* TLSv1.3 (OUT), TLS change cipher, Change cipher spec (1):\n",
      "} [1 bytes data]\n",
      "* TLSv1.3 (OUT), TLS handshake, Finished (20):\n",
      "} [52 bytes data]\n",
      "* SSL connection using TLSv1.3 / TLS_AES_256_GCM_SHA384\n",
      "* ALPN, server accepted to use h2\n",
      "* Server certificate:\n",
      "*  subject: C=US; ST=California; L=San Francisco; O=Cloudflare, Inc.; CN=sni.cloudflaressl.com\n",
      "*  start date: Jun  7 00:00:00 2022 GMT\n",
      "*  expire date: Jun  6 23:59:59 2023 GMT\n",
      "*  subjectAltName: host \"trudeau.dev\" matched cert's \"trudeau.dev\"\n",
      "*  issuer: C=US; O=Cloudflare, Inc.; CN=Cloudflare Inc ECC CA-3\n",
      "*  SSL certificate verify ok.\n",
      "* Using HTTP2, server supports multi-use\n",
      "* Connection state changed (HTTP/2 confirmed)\n",
      "* Copying HTTP/2 data in stream buffer to connection buffer after upgrade: len=0\n",
      "} [5 bytes data]\n",
      "* Using Stream ID: 1 (easy handle 0x563c5caef1e0)\n",
      "} [5 bytes data]\n",
      "> GET /helloworld.html HTTP/2\n",
      "> Host: trudeau.dev\n",
      "> user-agent: curl/7.74.0\n",
      "> accept: */*\n",
      "> \n",
      "{ [5 bytes data]\n",
      "* TLSv1.3 (IN), TLS handshake, Newsession Ticket (4):\n",
      "{ [230 bytes data]\n",
      "* TLSv1.3 (IN), TLS handshake, Newsession Ticket (4):\n",
      "{ [230 bytes data]\n",
      "* old SSL session ID is stale, removing\n",
      "{ [5 bytes data]\n",
      "* Connection state changed (MAX_CONCURRENT_STREAMS == 256)!\n",
      "} [5 bytes data]\n"
     ]
    },
    {
     "name": "stdout",
     "output_type": "stream",
     "text": [
      "HTTP/2 200 \r\n",
      "date: Thu, 25 Aug 2022 22:00:44 GMT\r\n",
      "content-type: text/html\r\n",
      "last-modified: Tue, 30 Mar 2021 14:51:18 GMT\r\n",
      "accept-ranges: bytes\r\n",
      "cf-cache-status: DYNAMIC\r\n",
      "expect-ct: max-age=604800, report-uri=\"https://report-uri.cloudflare.com/cdn-cgi/beacon/expect-ct\"\r\n",
      "report-to: {\"endpoints\":[{\"url\":\"https:\\/\\/a.nel.cloudflare.com\\/report\\/v3?s=GMf5o8a22rr850IOLePAeY4vSZ0nVIsYncx2wD2XAcnIIVkrwkidDwmL400Y%2FpYaT4ng9Zwtzv0AGwpKdgzdhFJlkx4yw%2F5yYLK6jhX9bIQiJGeg7%2BgGJ5%2FV0zmwKQ%3D%3D\"}],\"group\":\"cf-nel\",\"max_age\":604800}\r\n",
      "nel: {\"success_fraction\":0,\"report_to\":\"cf-nel\",\"max_age\":604800}\r\n",
      "server: cloudflare\r\n",
      "cf-ray: 74079a283bdd9f89-SIN\r\n",
      "alt-svc: h3=\":443\"; ma=86400, h3-29=\":443\"; ma=86400\r\n",
      "\r\n",
      "<!doctype html>\n",
      "<html lang=\"en\">\n",
      "<head>\n",
      "  <title>Hello World!</title>\n",
      "</head>\n",
      "<body>\n",
      "  <h1>Hello World!</h1>\n",
      "</body>\n",
      "</html>\n"
     ]
    },
    {
     "name": "stderr",
     "output_type": "stream",
     "text": [
      "< HTTP/2 200 \r\n",
      "< date: Thu, 25 Aug 2022 22:00:44 GMT\r\n",
      "< content-type: text/html\r\n",
      "< last-modified: Tue, 30 Mar 2021 14:51:18 GMT\r\n",
      "< accept-ranges: bytes\r\n",
      "< cf-cache-status: DYNAMIC\r\n",
      "< expect-ct: max-age=604800, report-uri=\"https://report-uri.cloudflare.com/cdn-cgi/beacon/expect-ct\"\r\n",
      "< report-to: {\"endpoints\":[{\"url\":\"https:\\/\\/a.nel.cloudflare.com\\/report\\/v3?s=GMf5o8a22rr850IOLePAeY4vSZ0nVIsYncx2wD2XAcnIIVkrwkidDwmL400Y%2FpYaT4ng9Zwtzv0AGwpKdgzdhFJlkx4yw%2F5yYLK6jhX9bIQiJGeg7%2BgGJ5%2FV0zmwKQ%3D%3D\"}],\"group\":\"cf-nel\",\"max_age\":604800}\r\n",
      "< nel: {\"success_fraction\":0,\"report_to\":\"cf-nel\",\"max_age\":604800}\r\n",
      "< server: cloudflare\r\n",
      "< cf-ray: 74079a283bdd9f89-SIN\r\n",
      "< alt-svc: h3=\":443\"; ma=86400, h3-29=\":443\"; ma=86400\r\n",
      "< \r\n",
      "{ [125 bytes data]\n",
      "* Connection #0 to host trudeau.dev left intact\n"
     ]
    },
    {
     "data": {
      "text/plain": [
       "CompletedProcess(args='curl -s -v --include https://trudeau.dev/helloworld.html', returncode=0)"
      ]
     },
     "execution_count": 12,
     "metadata": {},
     "output_type": "execute_result"
    }
   ],
   "source": [
    "subprocess.run(\"curl -s -v --include https://trudeau.dev/helloworld.html\", shell=True)"
   ]
  },
  {
   "cell_type": "markdown",
   "id": "e1d6640b",
   "metadata": {},
   "source": [
    "# Writing a Simple Server #\n",
    "https://realpython.com/lessons/write-simple-server/"
   ]
  },
  {
   "cell_type": "code",
   "execution_count": null,
   "id": "a4a58929",
   "metadata": {},
   "outputs": [],
   "source": [
    "# needs \"pip install flask\"\n",
    "from flask import Flask\n",
    "\n",
    "MESSAGE = \"shhhh, this is secret\"\n",
    "app = Flask(__name__)\n",
    "\n",
    "@app.route(\"/\")\n",
    "def get_secret_message():\n",
    "    return MESSAGE + \"\\n\"\n",
    "\n",
    "if __name__ == \"__main__\":\n",
    "    app.run(port=5684)"
   ]
  },
  {
   "cell_type": "code",
   "execution_count": 15,
   "id": "679540d0",
   "metadata": {},
   "outputs": [
    {
     "name": "stdout",
     "output_type": "stream",
     "text": [
      "shhhh, this is secret\n"
     ]
    },
    {
     "data": {
      "text/plain": [
       "CompletedProcess(args='curl -s http://127.0.0.1:5684/', returncode=0)"
      ]
     },
     "execution_count": 15,
     "metadata": {},
     "output_type": "execute_result"
    }
   ],
   "source": [
    "subprocess.run(\"curl -s http://127.0.0.1:5684/\", shell=True)"
   ]
  },
  {
   "cell_type": "markdown",
   "id": "c6181643",
   "metadata": {},
   "source": [
    "Use lsof to find the running services \\\n",
    "Use WireShark to inspect the traffic and the \"secret\" message"
   ]
  },
  {
   "cell_type": "markdown",
   "id": "19960910",
   "metadata": {},
   "source": [
    "# Cryptography #\n",
    "https://realpython.com/lessons/brief-intro-cryptography/"
   ]
  },
  {
   "cell_type": "code",
   "execution_count": 21,
   "id": "ad958826",
   "metadata": {},
   "outputs": [],
   "source": [
    "cipher = {chr(x):chr(x+1) for x in range(97,123)}\n",
    "cipher[\"z\"] = \"a\""
   ]
  },
  {
   "cell_type": "code",
   "execution_count": 33,
   "id": "c936553f",
   "metadata": {},
   "outputs": [
    {
     "name": "stdout",
     "output_type": "stream",
     "text": [
      "{'a': 'b', 'b': 'c', 'c': 'd', 'd': 'e', 'e': 'f', 'f': 'g', 'g': 'h', 'h': 'i', 'i': 'j', 'j': 'k', 'k': 'l', 'l': 'm', 'm': 'n', 'n': 'o', 'o': 'p', 'p': 'q', 'q': 'r', 'r': 's', 's': 't', 't': 'u', 'u': 'v', 'v': 'w', 'w': 'x', 'x': 'y', 'y': 'z', 'z': 'a'}\n"
     ]
    }
   ],
   "source": [
    "print(cipher)"
   ]
  },
  {
   "cell_type": "code",
   "execution_count": 27,
   "id": "6bb5a43d",
   "metadata": {},
   "outputs": [],
   "source": [
    "cheese_encrypted = [cipher[letter] for letter in \"gorgonzola\"]\n",
    "cheese_encrypted = \"\".join(cheese_encrypted)"
   ]
  },
  {
   "cell_type": "code",
   "execution_count": 34,
   "id": "e8abf053",
   "metadata": {},
   "outputs": [
    {
     "name": "stdout",
     "output_type": "stream",
     "text": [
      "hpshpoapmb\n"
     ]
    }
   ],
   "source": [
    "print(cheese_encrypted)"
   ]
  },
  {
   "cell_type": "code",
   "execution_count": 29,
   "id": "7cb6ae7a",
   "metadata": {},
   "outputs": [],
   "source": [
    "decipher = {value:key for key, value in cipher.items()}"
   ]
  },
  {
   "cell_type": "code",
   "execution_count": 35,
   "id": "8ee72e07",
   "metadata": {},
   "outputs": [
    {
     "name": "stdout",
     "output_type": "stream",
     "text": [
      "{'b': 'a', 'c': 'b', 'd': 'c', 'e': 'd', 'f': 'e', 'g': 'f', 'h': 'g', 'i': 'h', 'j': 'i', 'k': 'j', 'l': 'k', 'm': 'l', 'n': 'm', 'o': 'n', 'p': 'o', 'q': 'p', 'r': 'q', 's': 'r', 't': 's', 'u': 't', 'v': 'u', 'w': 'v', 'x': 'w', 'y': 'x', 'z': 'y', 'a': 'z'}\n"
     ]
    }
   ],
   "source": [
    "print(decipher)"
   ]
  },
  {
   "cell_type": "code",
   "execution_count": 31,
   "id": "5c1e8011",
   "metadata": {},
   "outputs": [],
   "source": [
    "cheese = [decipher[letter] for letter in cheese_encrypted]\n",
    "cheese = \"\".join(cheese)"
   ]
  },
  {
   "cell_type": "code",
   "execution_count": 36,
   "id": "0d040684",
   "metadata": {},
   "outputs": [
    {
     "name": "stdout",
     "output_type": "stream",
     "text": [
      "gorgonzola\n"
     ]
    }
   ],
   "source": [
    "print(cheese)"
   ]
  },
  {
   "cell_type": "markdown",
   "id": "65d8658b",
   "metadata": {},
   "source": [
    "# Fernet Ciphers #\n",
    "https://realpython.com/lessons/using-fernet-ciphers/ \\\n",
    "Fernet is an implementation of AES"
   ]
  },
  {
   "cell_type": "code",
   "execution_count": null,
   "id": "05095870",
   "metadata": {},
   "outputs": [],
   "source": []
  },
  {
   "cell_type": "code",
   "execution_count": null,
   "id": "4d6e7e2a",
   "metadata": {},
   "outputs": [],
   "source": [
    "pip install cryptography requests"
   ]
  },
  {
   "cell_type": "code",
   "execution_count": 1,
   "id": "cb9451cb",
   "metadata": {},
   "outputs": [],
   "source": [
    "from cryptography.fernet import Fernet"
   ]
  },
  {
   "cell_type": "code",
   "execution_count": 2,
   "id": "acb9787e",
   "metadata": {},
   "outputs": [],
   "source": [
    "key = Fernet.generate_key()"
   ]
  },
  {
   "cell_type": "code",
   "execution_count": 3,
   "id": "7baa5af6",
   "metadata": {},
   "outputs": [
    {
     "data": {
      "text/plain": [
       "b'RD8L40ChkTllQ2Qh5-VhhXnlKYf8Ru1Jkiweb1mlXsA='"
      ]
     },
     "execution_count": 3,
     "metadata": {},
     "output_type": "execute_result"
    }
   ],
   "source": [
    "key"
   ]
  },
  {
   "cell_type": "code",
   "execution_count": 5,
   "id": "90c580f2",
   "metadata": {},
   "outputs": [],
   "source": [
    "my_cipher = Fernet(key)"
   ]
  },
  {
   "cell_type": "code",
   "execution_count": 6,
   "id": "c25f0237",
   "metadata": {},
   "outputs": [],
   "source": [
    "cipher_text = my_cipher.encrypt(b\"shhhh, this is secret\")"
   ]
  },
  {
   "cell_type": "code",
   "execution_count": 7,
   "id": "cc0209a2",
   "metadata": {},
   "outputs": [
    {
     "data": {
      "text/plain": [
       "b'gAAAAABjCBIQ_iJE4TMI9QukK-UndY1XGdtZ0PLJdHscszRTfHrp5Lir5KARO5dTA4QDkRwILtGSvIGvE15PFOJ9oT28xZVsDM_-0WwK7-ds2M99FlW-9GQ='"
      ]
     },
     "execution_count": 7,
     "metadata": {},
     "output_type": "execute_result"
    }
   ],
   "source": [
    "cipher_text"
   ]
  },
  {
   "cell_type": "code",
   "execution_count": 8,
   "id": "ac05ea0d",
   "metadata": {},
   "outputs": [
    {
     "data": {
      "text/plain": [
       "b'shhhh, this is secret'"
      ]
     },
     "execution_count": 8,
     "metadata": {},
     "output_type": "execute_result"
    }
   ],
   "source": [
    "my_cipher.decrypt(cipher_text)"
   ]
  },
  {
   "cell_type": "markdown",
   "id": "c0b2f0e5",
   "metadata": {},
   "source": [
    "# Asymmetric Keys #\n",
    "https://realpython.com/lessons/asymmetric-keys/"
   ]
  },
  {
   "cell_type": "code",
   "execution_count": null,
   "id": "7ba534c5",
   "metadata": {},
   "outputs": [],
   "source": []
  }
 ],
 "metadata": {
  "kernelspec": {
   "display_name": "Python 3 (ipykernel)",
   "language": "python",
   "name": "python3"
  },
  "language_info": {
   "codemirror_mode": {
    "name": "ipython",
    "version": 3
   },
   "file_extension": ".py",
   "mimetype": "text/x-python",
   "name": "python",
   "nbconvert_exporter": "python",
   "pygments_lexer": "ipython3",
   "version": "3.9.2"
  }
 },
 "nbformat": 4,
 "nbformat_minor": 5
}
